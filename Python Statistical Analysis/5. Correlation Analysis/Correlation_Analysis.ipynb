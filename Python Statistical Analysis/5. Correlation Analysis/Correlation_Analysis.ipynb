{
  "nbformat": 4,
  "nbformat_minor": 0,
  "metadata": {
    "colab": {
      "provenance": [],
      "authorship_tag": "ABX9TyMsiZe36h78+Rypwsytn/yd",
      "include_colab_link": true
    },
    "kernelspec": {
      "name": "python3",
      "display_name": "Python 3"
    },
    "language_info": {
      "name": "python"
    }
  },
  "cells": [
    {
      "cell_type": "markdown",
      "metadata": {
        "id": "view-in-github",
        "colab_type": "text"
      },
      "source": [
        "<a href=\"https://colab.research.google.com/github/RebeccaKinnie/Research-and-Design-Project-2023/blob/main/Correlation_Analysis.ipynb\" target=\"_parent\"><img src=\"https://colab.research.google.com/assets/colab-badge.svg\" alt=\"Open In Colab\"/></a>"
      ]
    },
    {
      "cell_type": "markdown",
      "source": [
        "Correlation Analysis for size 27cm prosthetic foot, between difference in stiffness categories and difference in forefoot stiffness properties."
      ],
      "metadata": {
        "id": "ehHGxJ-7_pL2"
      }
    },
    {
      "cell_type": "code",
      "execution_count": null,
      "metadata": {
        "colab": {
          "base_uri": "https://localhost:8080/"
        },
        "id": "qJrz0FNi_bmL",
        "outputId": "550a627a-d060-4003-d481-efe19119b17e"
      },
      "outputs": [
        {
          "output_type": "stream",
          "name": "stdout",
          "text": [
            "Correlation Coefficient:  0.9100398286628283\n"
          ]
        }
      ],
      "source": [
        "# importing the required packages\n",
        "import numpy as np\n",
        "\n",
        "# defining data sets\n",
        "data1 = np.array([1, 2, 3])\n",
        "data2 = ([3.025, 7.475, 8])\n",
        "\n",
        "# calculatingthe correlation coefficient\n",
        "correlation_coefficient = np.corrcoef(data1, data2)[0, 1]\n",
        "\n",
        "# showing the correlation coefficient\n",
        "print (\"Correlation Coefficient: \", correlation_coefficient)\n"
      ]
    },
    {
      "cell_type": "markdown",
      "source": [
        "Correlation Analysis for size 28 cm prosthetic foot, between difference in stiffness categories and difference in forefoot stiffness properties."
      ],
      "metadata": {
        "id": "oJRotss0BuBb"
      }
    },
    {
      "cell_type": "code",
      "source": [
        "# importing the required packages\n",
        "import numpy as np\n",
        "\n",
        "# defining data sets\n",
        "data1 = np.array([1, 2, 3])\n",
        "data2 = ([4.225, 8.825, 2.3])\n",
        "\n",
        "# calculatingthe correlation coefficient\n",
        "correlation_coefficient = np.corrcoef(data1, data2)[0, 1]\n",
        "\n",
        "# showing the correlation coefficient\n",
        "print (\"Correlation Coefficient: \", correlation_coefficient)\n"
      ],
      "metadata": {
        "colab": {
          "base_uri": "https://localhost:8080/"
        },
        "id": "6_4AAaPjBxAA",
        "outputId": "c851cd1f-ac0f-4120-875a-c198eaf5457d"
      },
      "execution_count": null,
      "outputs": [
        {
          "output_type": "stream",
          "name": "stdout",
          "text": [
            "Correlation Coefficient:  -0.2870870203275676\n"
          ]
        }
      ]
    },
    {
      "cell_type": "markdown",
      "source": [
        "Correlation Analysis for size 29 cm prosthetic foot, between difference in stiffness categories and difference in forefoot stiffness properties."
      ],
      "metadata": {
        "id": "BwHSAeNsB33i"
      }
    },
    {
      "cell_type": "code",
      "source": [
        "# importing the required packages\n",
        "import numpy as np\n",
        "\n",
        "# defining data sets\n",
        "data1 = np.array([1, 2, 3])\n",
        "data2 = ([3.926, 6.15, 7.13])\n",
        "\n",
        "# calculatingthe correlation coefficient\n",
        "correlation_coefficient = np.corrcoef(data1, data2)[0, 1]\n",
        "\n",
        "# showing the correlation coefficient\n",
        "print (\"Correlation Coefficient: \", correlation_coefficient)"
      ],
      "metadata": {
        "colab": {
          "base_uri": "https://localhost:8080/"
        },
        "id": "1QeupGskB70N",
        "outputId": "c89197e7-53ff-4eec-b85a-d0b27df69975"
      },
      "execution_count": null,
      "outputs": [
        {
          "output_type": "stream",
          "name": "stdout",
          "text": [
            "Correlation Coefficient:  0.9757839997634924\n"
          ]
        }
      ]
    },
    {
      "cell_type": "markdown",
      "source": [
        "Correlation Analysis for size 27 cm prosthetic foot, between difference in stiffness categories and difference in heel stiffness properties."
      ],
      "metadata": {
        "id": "6jczG7asCGlz"
      }
    },
    {
      "cell_type": "code",
      "source": [
        "# importing the required packages\n",
        "import numpy as np\n",
        "\n",
        "# defining data sets\n",
        "data1 = np.array([1, 2, 3])\n",
        "data2 = ([2.35, 6.575, 5.23])\n",
        "\n",
        "# calculatingthe correlation coefficient\n",
        "correlation_coefficient = np.corrcoef(data1, data2)[0, 1]\n",
        "\n",
        "# showing the correlation coefficient\n",
        "print (\"Correlation Coefficient: \", correlation_coefficient)"
      ],
      "metadata": {
        "colab": {
          "base_uri": "https://localhost:8080/"
        },
        "id": "bJ0jGbUiCJaf",
        "outputId": "cd391670-d621-406a-9bf1-f665d8fb711b"
      },
      "execution_count": null,
      "outputs": [
        {
          "output_type": "stream",
          "name": "stdout",
          "text": [
            "Correlation Coefficient:  0.6671381072490568\n"
          ]
        }
      ]
    },
    {
      "cell_type": "markdown",
      "source": [
        "Correlation Analysis for size 28 cm prosthetic foot, between difference in stiffness categories and difference in heel stiffness properties."
      ],
      "metadata": {
        "id": "fpQ2K_V2CQ6D"
      }
    },
    {
      "cell_type": "code",
      "source": [
        "# importing the required packages\n",
        "import numpy as np\n",
        "\n",
        "# defining data sets\n",
        "data1 = np.array([1, 2, 3])\n",
        "data2 = ([6.175, 8.2, 10.73])\n",
        "\n",
        "# calculatingthe correlation coefficient\n",
        "correlation_coefficient = np.corrcoef(data1, data2)[0, 1]\n",
        "\n",
        "# showing the correlation coefficient\n",
        "print (\"Correlation Coefficient: \", correlation_coefficient)"
      ],
      "metadata": {
        "colab": {
          "base_uri": "https://localhost:8080/"
        },
        "id": "zlNc5GbcCSQa",
        "outputId": "fbfe4a69-a6a1-46fd-a5bc-1cd439602494"
      },
      "execution_count": null,
      "outputs": [
        {
          "output_type": "stream",
          "name": "stdout",
          "text": [
            "Correlation Coefficient:  0.9979576850956126\n"
          ]
        }
      ]
    },
    {
      "cell_type": "markdown",
      "source": [
        "Correlation Analysis for size 29 cm prosthetic foot, between difference in stiffness categories and difference in heel stiffness properties."
      ],
      "metadata": {
        "id": "LGkP3oJUCYkj"
      }
    },
    {
      "cell_type": "code",
      "source": [
        "# importing the required packages\n",
        "import numpy as np\n",
        "\n",
        "# defining data sets\n",
        "data1 = np.array([1, 2, 3])\n",
        "data2 = ([7.925, 7.525, 10])\n",
        "\n",
        "# calculatingthe correlation coefficient\n",
        "correlation_coefficient = np.corrcoef(data1, data2)[0, 1]\n",
        "\n",
        "# showing the correlation coefficient\n",
        "print (\"Correlation Coefficient: \", correlation_coefficient)"
      ],
      "metadata": {
        "colab": {
          "base_uri": "https://localhost:8080/"
        },
        "id": "5FqySqLeCcLu",
        "outputId": "233ec091-1e2e-4258-9ad4-efa502184e81"
      },
      "execution_count": null,
      "outputs": [
        {
          "output_type": "stream",
          "name": "stdout",
          "text": [
            "Correlation Coefficient:  0.780890466663086\n"
          ]
        }
      ]
    }
  ]
}
